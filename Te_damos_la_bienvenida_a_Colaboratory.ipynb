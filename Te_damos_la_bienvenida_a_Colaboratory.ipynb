{
  "cells": [
    {
      "cell_type": "markdown",
      "metadata": {
        "id": "view-in-github",
        "colab_type": "text"
      },
      "source": [
        "<a href=\"https://colab.research.google.com/github/sergiocastro85/NCAPAS/blob/master/Te_damos_la_bienvenida_a_Colaboratory.ipynb\" target=\"_parent\"><img src=\"https://colab.research.google.com/assets/colab-badge.svg\" alt=\"Open In Colab\"/></a>"
      ]
    },
    {
      "cell_type": "markdown",
      "source": [
        "instalar libreria treelib"
      ],
      "metadata": {
        "id": "SLpRe3BudqsP"
      }
    },
    {
      "cell_type": "code",
      "source": [
        "!pip install treelib"
      ],
      "metadata": {
        "colab": {
          "base_uri": "https://localhost:8080/"
        },
        "id": "PhZzBGK1byTk",
        "outputId": "ab6ef8f4-996c-46d7-f7e4-0bc7dd16db8b"
      },
      "execution_count": 2,
      "outputs": [
        {
          "output_type": "stream",
          "name": "stdout",
          "text": [
            "Collecting treelib\n",
            "  Downloading treelib-1.6.1.tar.gz (24 kB)\n",
            "Requirement already satisfied: future in /usr/local/lib/python3.7/dist-packages (from treelib) (0.16.0)\n",
            "Building wheels for collected packages: treelib\n",
            "  Building wheel for treelib (setup.py) ... \u001b[?25l\u001b[?25hdone\n",
            "  Created wheel for treelib: filename=treelib-1.6.1-py3-none-any.whl size=18385 sha256=26503a0010409f3bacd0986aceafd21a265fba4aed9aa45500b1501119470f79\n",
            "  Stored in directory: /root/.cache/pip/wheels/89/be/94/2c6d949ce599d1443426d83ba4dc93cd35c0f4638260930a53\n",
            "Successfully built treelib\n",
            "Installing collected packages: treelib\n",
            "Successfully installed treelib-1.6.1\n"
          ]
        }
      ]
    },
    {
      "cell_type": "code",
      "source": [
        "#importar \n",
        "from treelib import Tree"
      ],
      "metadata": {
        "id": "9Qz-vJyUdbOx"
      },
      "execution_count": 3,
      "outputs": []
    },
    {
      "cell_type": "code",
      "source": [
        "#Instanciar un arbol\n",
        "t=Tree()"
      ],
      "metadata": {
        "id": "f1X7VLJie0TV"
      },
      "execution_count": 4,
      "outputs": []
    },
    {
      "cell_type": "code",
      "source": [
        "#agregar nodos\n",
        "t.create_node(tag=\"A\",identifier=\"A\",data=\"A\")\n",
        "t.create_node(tag=\"B\",identifier=\"B\",parent=\"A\",data=\"B\")\n",
        "t.create_node(tag=\"C\",identifier=\"C\",parent=\"A\",data=\"A\")\n",
        "t.create_node(tag=\"D\",identifier=\"D\",parent=\"B\",data=\"D\")\n",
        "t.show()"
      ],
      "metadata": {
        "colab": {
          "base_uri": "https://localhost:8080/"
        },
        "id": "MLg2VlEVe7C0",
        "outputId": "0af8a5ff-0d98-4338-ee0b-8aa20b720cad"
      },
      "execution_count": 5,
      "outputs": [
        {
          "output_type": "stream",
          "name": "stdout",
          "text": [
            "A\n",
            "├── B\n",
            "│   └── D\n",
            "└── C\n",
            "\n"
          ]
        }
      ]
    },
    {
      "cell_type": "code",
      "source": [
        "#DEFINIR FUNCION EXPANDIR NODO\n",
        "\n",
        "def expandirnodo(estadoactual):\n",
        "  L=[]\n",
        "  if estadoactual==\"A\":\n",
        "    L=[\"B\",\"C\"]\n",
        "  elif estadoactual==\"B\":\n",
        "    L=[\"Z\"]\n",
        "  elif estadoactual==\"Z\":\n",
        "    L=[\"D\",\"F\"]\n",
        "  elif estadoactual==\"C\":\n",
        "    L=[\"F\",\"G\",\"H\"]\n",
        "  elif estadoactual==\"F\":\n",
        "    L=[\"I\"]\n",
        "  elif estadoactual==\"G\":\n",
        "    L=[\"J\"]\n",
        "  elif estadoactual==\"H\":\n",
        "    L=[\"K\"]\n",
        "  elif estadoactual==\"K\":\n",
        "    L=[\"L\"]\n",
        "  return L"
      ],
      "metadata": {
        "id": "F19us3rJlMuD"
      },
      "execution_count": 13,
      "outputs": []
    },
    {
      "cell_type": "code",
      "source": [
        "from typing_extensions import ParamSpec\n",
        "#Estado inial A, estado Objetivo L\n",
        "Q=[]\n",
        "T=Tree()\n",
        "V=[]\n",
        "Q.append(\"A\")\n",
        "V.append(\"B\")\n",
        "T.create_node(tag=\"A\",identifier=\"A\",data=\"A\")\n",
        "while len(Q)!=0:\n",
        "  pos_actual=Q.pop(0)\n",
        "  hijos=expandirnodo(pos_actual)\n",
        "  for hijo in hijos:\n",
        "    if hijo not in V:\n",
        "      T.create_node(tag=hijo,identifier=hijo,parent=pos_actual,data=hijo)\n",
        "      V.append(hijo)\n",
        "      Q.append(hijo)\n",
        "      if hijo==\"L\":\n",
        "        T.show()\n",
        "print(\"no Hay Solución\")\n",
        "  "
      ],
      "metadata": {
        "colab": {
          "base_uri": "https://localhost:8080/"
        },
        "id": "W7rNbrNDjD2I",
        "outputId": "d76f0c60-7e4f-4283-f1cb-8dbb7fa763e3"
      },
      "execution_count": 14,
      "outputs": [
        {
          "output_type": "stream",
          "name": "stdout",
          "text": [
            "A\n",
            "└── C\n",
            "    ├── F\n",
            "    │   └── I\n",
            "    ├── G\n",
            "    │   └── J\n",
            "    └── H\n",
            "        └── K\n",
            "            └── L\n",
            "\n",
            "no Hay Solución\n"
          ]
        }
      ]
    }
  ],
  "metadata": {
    "colab": {
      "collapsed_sections": [],
      "name": "Te damos la bienvenida a Colaboratory",
      "toc_visible": true,
      "provenance": [],
      "include_colab_link": true
    },
    "kernelspec": {
      "display_name": "Python 3",
      "name": "python3"
    }
  },
  "nbformat": 4,
  "nbformat_minor": 0
}